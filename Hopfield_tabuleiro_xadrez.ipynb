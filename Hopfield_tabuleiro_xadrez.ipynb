{
 "cells": [
  {
   "cell_type": "code",
   "execution_count": 1,
   "metadata": {},
   "outputs": [],
   "source": [
    "%matplotlib inline\n",
    "from neurodynex.hopfield_network import network, pattern_tools, plot_tools"
   ]
  },
  {
   "cell_type": "code",
   "execution_count": 2,
   "metadata": {},
   "outputs": [
    {
     "name": "stdout",
     "output_type": "stream",
     "text": [
      "[[ 1 -1  1 -1  1]\n",
      " [-1  1 -1  1 -1]\n",
      " [ 1 -1  1 -1  1]\n",
      " [-1  1 -1  1 -1]\n",
      " [ 1 -1  1 -1  1]]\n"
     ]
    }
   ],
   "source": [
    "tamanho = 5\n",
    "\n",
    "# cria uma instancia da rede hopfield\n",
    "\n",
    "hopfield = network.HopfieldNetwork(nr_neurons= tamanho**2)\n",
    "factory = pattern_tools.PatternFactory(tamanho, tamanho)\n",
    "\n",
    "#Cria o tabuleiro e adiciona a lista de padrões \n",
    "\n",
    "tabuleiro = factory.create_checkerboard()\n",
    "padroes = [tabuleiro]\n",
    "print(tabuleiro)\n"
   ]
  },
  {
   "cell_type": "code",
   "execution_count": 9,
   "metadata": {
    "scrolled": false
   },
   "outputs": [
    {
     "data": {
      "image/png": "[encoded data removed]",
      "text/plain": [
       "<Figure size 432x288 with 9 Axes>"
      ]
     },
     "metadata": {
      "needs_background": "light"
     },
     "output_type": "display_data"
    },
    {
     "data": {
      "image/png": "[encoded data removed]",
      "text/plain": [
       "<Figure size 432x288 with 2 Axes>"
      ]
     },
     "metadata": {
      "needs_background": "light"
     },
     "output_type": "display_data"
    },
    {
     "name": "stdout",
     "output_type": "stream",
     "text": [
      "[[ 1.   -0.2  -0.04 -0.12  0.2   0.12 -0.2   0.52 -0.04]\n",
      " [-0.2   1.   -0.28 -0.04 -0.04  0.04  0.2  -0.04 -0.28]\n",
      " [-0.04 -0.28  1.   -0.2  -0.2  -0.12 -0.12 -0.2   0.2 ]\n",
      " [-0.12 -0.04 -0.2   1.   -0.28  0.12  0.28 -0.12 -0.04]\n",
      " [ 0.2  -0.04 -0.2  -0.28  1.   -0.2  -0.04  0.2  -0.36]\n",
      " [ 0.12  0.04 -0.12  0.12 -0.2   1.    0.04 -0.04  0.04]\n",
      " [-0.2   0.2  -0.12  0.28 -0.04  0.04  1.    0.12  0.36]\n",
      " [ 0.52 -0.04 -0.2  -0.12  0.2  -0.04  0.12  1.    0.28]\n",
      " [-0.04 -0.28  0.2  -0.04 -0.36  0.04  0.36  0.28  1.  ]]\n"
     ]
    }
   ],
   "source": [
    "\n",
    "#Adiciona padrões aleatoriamente a lista\n",
    "\n",
    "padroes.extend(factory.create_random_pattern_list(nr_patterns=4, on_probability=0.5))\n",
    "\n",
    "#plotagem\n",
    "plot_tools.plot_pattern_list(padroes)\n",
    "\n",
    "# Matriz de sobreposicao para visualizar a convergencia\n",
    "\n",
    "matriz_sobreposicao = pattern_tools.compute_overlap_matrix(padroes)\n",
    "\n",
    "#plotagem\n",
    "plot_tools.plot_overlap_matrix(matriz_sobreposicao)\n",
    "print(matriz_sobreposicao)\n"
   ]
  },
  {
   "cell_type": "code",
   "execution_count": 4,
   "metadata": {},
   "outputs": [],
   "source": [
    "\n",
    "# A rede vai aprender os padrões e armazenar\n",
    "# Na verdade não armazena e sim atualiza os pesos da rede\n",
    "\n",
    "hopfield.store_patterns(padroes)\n"
   ]
  },
  {
   "cell_type": "code",
   "execution_count": 5,
   "metadata": {},
   "outputs": [
    {
     "name": "stdout",
     "output_type": "stream",
     "text": [
      "[[-1 -1  1  1  1]\n",
      " [-1  1 -1  1 -1]\n",
      " [ 1 -1 -1 -1  1]\n",
      " [ 1  1 -1  1 -1]\n",
      " [ 1 -1 -1 -1  1]]\n"
     ]
    }
   ],
   "source": [
    "\n",
    "#Cria uma versão distorcida do padrão e inicializa a rede \n",
    "\n",
    "estado_distorcido = pattern_tools.flip_n(tabuleiro, nr_of_flips=5)\n",
    "hopfield.set_state_from_pattern(estado_distorcido )\n",
    "print(estado_distorcido)\n"
   ]
  },
  {
   "cell_type": "code",
   "execution_count": 6,
   "metadata": {},
   "outputs": [],
   "source": [
    "#monitorando a evolução da rede\n",
    "\n",
    "estados = hopfield.run_with_monitoring(nr_steps=6)\n",
    "\n"
   ]
  },
  {
   "cell_type": "code",
   "execution_count": 7,
   "metadata": {},
   "outputs": [
    {
     "data": {
      "image/png": "[encoded data removed]",
      "text/plain": [
       "<Figure size 432x288 with 14 Axes>"
      ]
     },
     "metadata": {
      "needs_background": "light"
     },
     "output_type": "display_data"
    }
   ],
   "source": [
    "# cada estado da rede é um vetor. vai redesenhando para criar os padroes.\n",
    "\n",
    "estado_padrao = factory.reshape_patterns(estados)\n",
    "\n",
    "# Plotagem do estado da Rede \n",
    "plot_tools.plot_state_sequence_and_overlap(estado_padrao, padroes, reference_idx=0, suptitle=\"Dinâmica da Rede\")"
   ]
  }
 ],
 "metadata": {
  "kernelspec": {
   "display_name": "Python 3",
   "language": "python",
   "name": "python3"
  },
  "language_info": {
   "codemirror_mode": {
    "name": "ipython",
    "version": 3
   },
   "file_extension": ".py",
   "mimetype": "text/x-python",
   "name": "python",
   "nbconvert_exporter": "python",
   "pygments_lexer": "ipython3",
   "version": "3.7.1"
  }
 },
 "nbformat": 4,
 "nbformat_minor": 2
}
